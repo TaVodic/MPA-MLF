{
 "cells": [
  {
   "cell_type": "code",
   "execution_count": 21,
   "metadata": {},
   "outputs": [],
   "source": [
    "import numpy as np\n",
    "import matplotlib.pyplot as plt\n",
    "import pandas as pd\n",
    "import os\n",
    "\n",
    "from keras.models import Sequential\n",
    "from keras.optimizers import Adam\n",
    "from keras.utils import to_categorical\n",
    "from keras.callbacks import EarlyStopping\n",
    "from keras.layers import Conv2D, MaxPooling2D, Flatten, Dense, Input, BatchNormalization, AveragePooling2D\n",
    "from sklearn.metrics import ConfusionMatrixDisplay\n",
    "from sklearn.metrics import confusion_matrix\n",
    "from sklearn.model_selection import train_test_split"
   ]
  },
  {
   "cell_type": "code",
   "execution_count": 22,
   "metadata": {},
   "outputs": [],
   "source": [
    "def load_data(dataset_dir, labes_dir):\n",
    "    # Load the labels\n",
    "    labels_df = pd.read_csv(labes_dir)\n",
    "\n",
    "    # Sort labels by ID to ensure the order matches the .npy file order\n",
    "    labels_df = labels_df.sort_values('ID').reset_index(drop=True)\n",
    "\n",
    "    # Initialize lists to collect data and labels\n",
    "    data_list = []\n",
    "    labels_list = []\n",
    "\n",
    "    # Loop over IDs in order\n",
    "    for idx, row in labels_df.iterrows():\n",
    "        file_path = os.path.join(dataset_dir, f\"{row['ID']}.npy\")\n",
    "        data = np.load(file_path)\n",
    "        data_list.append(data)\n",
    "        labels_list.append(row['target'])\n",
    "\n",
    "    # Convert to numpy arrays\n",
    "    dataset = np.array(data_list)\n",
    "    dataset_labels = np.array(labels_list)\n",
    "    \n",
    "    return dataset, dataset_labels"
   ]
  },
  {
   "cell_type": "code",
   "execution_count": 23,
   "metadata": {},
   "outputs": [
    {
     "name": "stdout",
     "output_type": "stream",
     "text": [
      "Data shape: (1491, 72, 48)\n",
      "Labels shape: (1491,)\n",
      "Test data shape: (120, 72, 48)\n",
      "Test labels shape: (120,)\n"
     ]
    }
   ],
   "source": [
    "TRAIN_DIR = 'C:/Users/Martin/Documents/REPO/MPA-MLF/Project/MPA-MLF_DATA_NEW/Train/'\n",
    "TEST_DIR = 'C:/Users/Martin/Documents/REPO/MPA-MLF/Project/MPA-MLF_DATA_NEW/Test/'\n",
    "LABEL_PATH = 'C:/Users/Martin/Documents/REPO/MPA-MLF/Project/MPA-MLF_DATA_NEW/label_train.csv'\n",
    "EMPTY_LABEL_PATH = 'C:/Users/Martin/Documents/REPO/MPA-MLF/Project/MPA-MLF_DATA_NEW/test_format.csv'\n",
    "\n",
    "dataset, dataset_labels = load_data(TRAIN_DIR, LABEL_PATH)\n",
    "submition_data, submition_data_labels = load_data(TEST_DIR, EMPTY_LABEL_PATH)\n",
    "\n",
    "print(f\"Data shape: {dataset.shape}\")\n",
    "print(f\"Labels shape: {dataset_labels.shape}\")\n",
    "print(f\"Test data shape: {submition_data.shape}\")\n",
    "print(f\"Test labels shape: {submition_data_labels.shape}\")"
   ]
  },
  {
   "cell_type": "code",
   "execution_count": 24,
   "metadata": {},
   "outputs": [
    {
     "name": "stdout",
     "output_type": "stream",
     "text": [
      "Num of bts 1:  141\n",
      "Num of bts0:  3627\n",
      "25\n",
      "Num of bts 2:  141\n",
      "Final size of dataset:  (10959, 72, 48)\n",
      "Submition data size: (120, 72, 48)\n"
     ]
    }
   ],
   "source": [
    "\n",
    "####### DATA AUGMENTATION ########\n",
    "bts_1 = dataset[dataset_labels == 1]\n",
    "print(\"Num of bts 1: \", bts_1.shape[0])\n",
    "\n",
    "bts_0 = dataset[dataset_labels == 0]\n",
    "for k in range(2):\n",
    "    bts_0 = bts_0 + np.random.normal(0, 3+k, (bts_0.shape[0], bts_0.shape[1], bts_0.shape[2])) #adding AWGN\n",
    "    dataset = np.append(dataset, bts_0, 0)\n",
    "    dataset_labels = np.append(dataset_labels, np.zeros(bts_0.shape[0]))\n",
    "num_of_bts0 = np.count_nonzero(dataset_labels == 0)\n",
    "print(\"Num of bts0: \", num_of_bts0)\n",
    "print(num_of_bts0//bts_1.shape[0])\n",
    "\n",
    "for k in range(num_of_bts0//bts_1.shape[0]):\n",
    "    bts_1 = bts_1 + np.random.normal(0, 3+k//3, (bts_1.shape[0], bts_1.shape[1], bts_1.shape[2])) #adding AWGN\n",
    "    dataset = np.append(dataset, bts_1, 0)\n",
    "    dataset_labels = np.append(dataset_labels, np.ones(bts_1.shape[0]))\n",
    "\n",
    "bts_2 = dataset[dataset_labels == 2]\n",
    "print(\"Num of bts 2: \", bts_2.shape[0] )\n",
    "for k in range(num_of_bts0//bts_2.shape[0]):\n",
    "    bts_2 = bts_2 + np.random.normal(0, 3+k//3, (bts_2.shape[0], bts_2.shape[1], bts_2.shape[2])) #adding AWGN\n",
    "    dataset = np.append(dataset, bts_2, 0)\n",
    "    dataset_labels = np.append(dataset_labels, 2 * np.ones(bts_2.shape[0]))\n",
    "\n",
    "print(\"Final size of dataset: \", dataset.shape)\n",
    "print(\"Submition data size:\", submition_data.shape)"
   ]
  },
  {
   "cell_type": "code",
   "execution_count": 25,
   "metadata": {},
   "outputs": [
    {
     "name": "stdout",
     "output_type": "stream",
     "text": [
      "Num of bts0, bts1, bts2 in training data:  2889 2928 2950 num of train:  8767\n",
      "Num of bts0, bts1, bts2 in test data:  738 738 716 num of test:  2192\n"
     ]
    }
   ],
   "source": [
    "x_train, x_test, y_train, y_test = train_test_split(dataset, dataset_labels, test_size=0.2, random_state=42)\n",
    "x_sub = submition_data\n",
    "\n",
    "print(\"Num of bts0, bts1, bts2 in training data: \", np.count_nonzero(y_train == 0), np.count_nonzero(y_train == 1), np.count_nonzero(y_train == 2), \"num of train: \", len(y_train))\n",
    "print(\"Num of bts0, bts1, bts2 in test data: \", np.count_nonzero(y_test == 0), np.count_nonzero(y_test == 1), np.count_nonzero(y_test == 2), \"num of test: \", len(y_test))\n",
    "\n",
    "y_train_encoded = to_categorical(y_train, num_classes=3)\n",
    "y_test_encoded = to_categorical(y_test, num_classes=3)\n",
    "\n",
    "x_train_mean = np.mean(x_train) #Z-score normalization of training data\n",
    "x_train_deviation = np.std(x_train)\n",
    "x_train_normalized = (x_train - x_train_mean) / x_train_deviation\n",
    "\n",
    "x_test_mean = np.mean(x_test) #Z-score normalization of test data\n",
    "x_test_deviation = np.std(x_test)\n",
    "x_test_normalized = (x_test - x_test_mean) / x_test_deviation\n",
    "\n",
    "x_sub_mean = np.mean(x_sub) #Z-score normalization of test data\n",
    "x_sub_deviation = np.std(x_sub)\n",
    "x_sub_normalized = (x_sub - x_sub_mean) / x_sub_deviation\n",
    "\n",
    "#print(x_sub_normalized.shape)\n",
    "x_train_normalized = x_train_normalized.reshape(-1, 72, 48, 1)\n",
    "x_test_normalized = x_test_normalized.reshape(-1, 72, 48, 1)\n",
    "x_sub_normalized = x_sub_normalized.reshape(-1, 72, 48, 1)\n",
    "#print(x_sub_normalized.shape)"
   ]
  },
  {
   "cell_type": "code",
   "execution_count": 26,
   "metadata": {},
   "outputs": [
    {
     "data": {
      "text/html": [
       "<pre style=\"white-space:pre;overflow-x:auto;line-height:normal;font-family:Menlo,'DejaVu Sans Mono',consolas,'Courier New',monospace\"><span style=\"font-weight: bold\">Model: \"sequential\"</span>\n",
       "</pre>\n"
      ],
      "text/plain": [
       "\u001b[1mModel: \"sequential\"\u001b[0m\n"
      ]
     },
     "metadata": {},
     "output_type": "display_data"
    },
    {
     "data": {
      "text/html": [
       "<pre style=\"white-space:pre;overflow-x:auto;line-height:normal;font-family:Menlo,'DejaVu Sans Mono',consolas,'Courier New',monospace\">┏━━━━━━━━━━━━━━━━━━━━━━━━━━━━━━━━━┳━━━━━━━━━━━━━━━━━━━━━━━━┳━━━━━━━━━━━━━━━┓\n",
       "┃<span style=\"font-weight: bold\"> Layer (type)                    </span>┃<span style=\"font-weight: bold\"> Output Shape           </span>┃<span style=\"font-weight: bold\">       Param # </span>┃\n",
       "┡━━━━━━━━━━━━━━━━━━━━━━━━━━━━━━━━━╇━━━━━━━━━━━━━━━━━━━━━━━━╇━━━━━━━━━━━━━━━┩\n",
       "│ conv2d (<span style=\"color: #0087ff; text-decoration-color: #0087ff\">Conv2D</span>)                 │ (<span style=\"color: #00d7ff; text-decoration-color: #00d7ff\">None</span>, <span style=\"color: #00af00; text-decoration-color: #00af00\">68</span>, <span style=\"color: #00af00; text-decoration-color: #00af00\">44</span>, <span style=\"color: #00af00; text-decoration-color: #00af00\">32</span>)     │           <span style=\"color: #00af00; text-decoration-color: #00af00\">832</span> │\n",
       "├─────────────────────────────────┼────────────────────────┼───────────────┤\n",
       "│ max_pooling2d (<span style=\"color: #0087ff; text-decoration-color: #0087ff\">MaxPooling2D</span>)    │ (<span style=\"color: #00d7ff; text-decoration-color: #00d7ff\">None</span>, <span style=\"color: #00af00; text-decoration-color: #00af00\">34</span>, <span style=\"color: #00af00; text-decoration-color: #00af00\">22</span>, <span style=\"color: #00af00; text-decoration-color: #00af00\">32</span>)     │             <span style=\"color: #00af00; text-decoration-color: #00af00\">0</span> │\n",
       "├─────────────────────────────────┼────────────────────────┼───────────────┤\n",
       "│ flatten (<span style=\"color: #0087ff; text-decoration-color: #0087ff\">Flatten</span>)               │ (<span style=\"color: #00d7ff; text-decoration-color: #00d7ff\">None</span>, <span style=\"color: #00af00; text-decoration-color: #00af00\">23936</span>)          │             <span style=\"color: #00af00; text-decoration-color: #00af00\">0</span> │\n",
       "├─────────────────────────────────┼────────────────────────┼───────────────┤\n",
       "│ dense (<span style=\"color: #0087ff; text-decoration-color: #0087ff\">Dense</span>)                   │ (<span style=\"color: #00d7ff; text-decoration-color: #00d7ff\">None</span>, <span style=\"color: #00af00; text-decoration-color: #00af00\">64</span>)             │     <span style=\"color: #00af00; text-decoration-color: #00af00\">1,531,968</span> │\n",
       "├─────────────────────────────────┼────────────────────────┼───────────────┤\n",
       "│ dense_1 (<span style=\"color: #0087ff; text-decoration-color: #0087ff\">Dense</span>)                 │ (<span style=\"color: #00d7ff; text-decoration-color: #00d7ff\">None</span>, <span style=\"color: #00af00; text-decoration-color: #00af00\">32</span>)             │         <span style=\"color: #00af00; text-decoration-color: #00af00\">2,080</span> │\n",
       "├─────────────────────────────────┼────────────────────────┼───────────────┤\n",
       "│ dense_2 (<span style=\"color: #0087ff; text-decoration-color: #0087ff\">Dense</span>)                 │ (<span style=\"color: #00d7ff; text-decoration-color: #00d7ff\">None</span>, <span style=\"color: #00af00; text-decoration-color: #00af00\">3</span>)              │            <span style=\"color: #00af00; text-decoration-color: #00af00\">99</span> │\n",
       "└─────────────────────────────────┴────────────────────────┴───────────────┘\n",
       "</pre>\n"
      ],
      "text/plain": [
       "┏━━━━━━━━━━━━━━━━━━━━━━━━━━━━━━━━━┳━━━━━━━━━━━━━━━━━━━━━━━━┳━━━━━━━━━━━━━━━┓\n",
       "┃\u001b[1m \u001b[0m\u001b[1mLayer (type)                   \u001b[0m\u001b[1m \u001b[0m┃\u001b[1m \u001b[0m\u001b[1mOutput Shape          \u001b[0m\u001b[1m \u001b[0m┃\u001b[1m \u001b[0m\u001b[1m      Param #\u001b[0m\u001b[1m \u001b[0m┃\n",
       "┡━━━━━━━━━━━━━━━━━━━━━━━━━━━━━━━━━╇━━━━━━━━━━━━━━━━━━━━━━━━╇━━━━━━━━━━━━━━━┩\n",
       "│ conv2d (\u001b[38;5;33mConv2D\u001b[0m)                 │ (\u001b[38;5;45mNone\u001b[0m, \u001b[38;5;34m68\u001b[0m, \u001b[38;5;34m44\u001b[0m, \u001b[38;5;34m32\u001b[0m)     │           \u001b[38;5;34m832\u001b[0m │\n",
       "├─────────────────────────────────┼────────────────────────┼───────────────┤\n",
       "│ max_pooling2d (\u001b[38;5;33mMaxPooling2D\u001b[0m)    │ (\u001b[38;5;45mNone\u001b[0m, \u001b[38;5;34m34\u001b[0m, \u001b[38;5;34m22\u001b[0m, \u001b[38;5;34m32\u001b[0m)     │             \u001b[38;5;34m0\u001b[0m │\n",
       "├─────────────────────────────────┼────────────────────────┼───────────────┤\n",
       "│ flatten (\u001b[38;5;33mFlatten\u001b[0m)               │ (\u001b[38;5;45mNone\u001b[0m, \u001b[38;5;34m23936\u001b[0m)          │             \u001b[38;5;34m0\u001b[0m │\n",
       "├─────────────────────────────────┼────────────────────────┼───────────────┤\n",
       "│ dense (\u001b[38;5;33mDense\u001b[0m)                   │ (\u001b[38;5;45mNone\u001b[0m, \u001b[38;5;34m64\u001b[0m)             │     \u001b[38;5;34m1,531,968\u001b[0m │\n",
       "├─────────────────────────────────┼────────────────────────┼───────────────┤\n",
       "│ dense_1 (\u001b[38;5;33mDense\u001b[0m)                 │ (\u001b[38;5;45mNone\u001b[0m, \u001b[38;5;34m32\u001b[0m)             │         \u001b[38;5;34m2,080\u001b[0m │\n",
       "├─────────────────────────────────┼────────────────────────┼───────────────┤\n",
       "│ dense_2 (\u001b[38;5;33mDense\u001b[0m)                 │ (\u001b[38;5;45mNone\u001b[0m, \u001b[38;5;34m3\u001b[0m)              │            \u001b[38;5;34m99\u001b[0m │\n",
       "└─────────────────────────────────┴────────────────────────┴───────────────┘\n"
      ]
     },
     "metadata": {},
     "output_type": "display_data"
    },
    {
     "data": {
      "text/html": [
       "<pre style=\"white-space:pre;overflow-x:auto;line-height:normal;font-family:Menlo,'DejaVu Sans Mono',consolas,'Courier New',monospace\"><span style=\"font-weight: bold\"> Total params: </span><span style=\"color: #00af00; text-decoration-color: #00af00\">1,534,979</span> (5.86 MB)\n",
       "</pre>\n"
      ],
      "text/plain": [
       "\u001b[1m Total params: \u001b[0m\u001b[38;5;34m1,534,979\u001b[0m (5.86 MB)\n"
      ]
     },
     "metadata": {},
     "output_type": "display_data"
    },
    {
     "data": {
      "text/html": [
       "<pre style=\"white-space:pre;overflow-x:auto;line-height:normal;font-family:Menlo,'DejaVu Sans Mono',consolas,'Courier New',monospace\"><span style=\"font-weight: bold\"> Trainable params: </span><span style=\"color: #00af00; text-decoration-color: #00af00\">1,534,979</span> (5.86 MB)\n",
       "</pre>\n"
      ],
      "text/plain": [
       "\u001b[1m Trainable params: \u001b[0m\u001b[38;5;34m1,534,979\u001b[0m (5.86 MB)\n"
      ]
     },
     "metadata": {},
     "output_type": "display_data"
    },
    {
     "data": {
      "text/html": [
       "<pre style=\"white-space:pre;overflow-x:auto;line-height:normal;font-family:Menlo,'DejaVu Sans Mono',consolas,'Courier New',monospace\"><span style=\"font-weight: bold\"> Non-trainable params: </span><span style=\"color: #00af00; text-decoration-color: #00af00\">0</span> (0.00 B)\n",
       "</pre>\n"
      ],
      "text/plain": [
       "\u001b[1m Non-trainable params: \u001b[0m\u001b[38;5;34m0\u001b[0m (0.00 B)\n"
      ]
     },
     "metadata": {},
     "output_type": "display_data"
    }
   ],
   "source": [
    "model = Sequential()\n",
    "#model.add(Input(x_train_normalized.shape))\n",
    "model.add(Input(shape=(72, 48, 1)))\n",
    "model.add(Conv2D(32, kernel_size=(5,5), activation = 'relu'))\n",
    "model.add(MaxPooling2D(pool_size=(2,2)))\n",
    "model.add(Flatten())#input_shape=(32, 32, 2)\n",
    "#model.add(BatchNormalization())\n",
    "model.add(Dense(64, activation='relu')) #128\n",
    "model.add(Dense(32, activation='relu'))\n",
    "#model.add(BatchNormalization())\n",
    "model.add(Dense(3, activation='softmax'))\n",
    "\n",
    "\n",
    "optimizer = Adam(learning_rate = 0.001)\n",
    "model.compile(loss='categorical_crossentropy', optimizer=optimizer, metrics=['accuracy'])\n",
    "\n",
    "model.summary()\n",
    "\n",
    "early_stopping = EarlyStopping(monitor='val_loss', patience=7, verbose=1, restore_best_weights=True  )"
   ]
  },
  {
   "cell_type": "code",
   "execution_count": 27,
   "metadata": {},
   "outputs": [
    {
     "name": "stdout",
     "output_type": "stream",
     "text": [
      "Epoch 1/30\n",
      "\u001b[1m351/351\u001b[0m \u001b[32m━━━━━━━━━━━━━━━━━━━━\u001b[0m\u001b[37m\u001b[0m \u001b[1m9s\u001b[0m 19ms/step - accuracy: 0.6742 - loss: 0.7450 - val_accuracy: 0.9818 - val_loss: 0.1000\n",
      "Epoch 2/30\n",
      "\u001b[1m351/351\u001b[0m \u001b[32m━━━━━━━━━━━━━━━━━━━━\u001b[0m\u001b[37m\u001b[0m \u001b[1m6s\u001b[0m 17ms/step - accuracy: 0.9856 - loss: 0.0732 - val_accuracy: 0.9658 - val_loss: 0.1220\n",
      "Epoch 3/30\n",
      "\u001b[1m351/351\u001b[0m \u001b[32m━━━━━━━━━━━━━━━━━━━━\u001b[0m\u001b[37m\u001b[0m \u001b[1m6s\u001b[0m 17ms/step - accuracy: 0.9854 - loss: 0.0596 - val_accuracy: 0.9966 - val_loss: 0.0141\n",
      "Epoch 4/30\n",
      "\u001b[1m351/351\u001b[0m \u001b[32m━━━━━━━━━━━━━━━━━━━━\u001b[0m\u001b[37m\u001b[0m \u001b[1m6s\u001b[0m 17ms/step - accuracy: 0.9928 - loss: 0.0259 - val_accuracy: 0.9966 - val_loss: 0.0147\n",
      "Epoch 5/30\n",
      "\u001b[1m351/351\u001b[0m \u001b[32m━━━━━━━━━━━━━━━━━━━━\u001b[0m\u001b[37m\u001b[0m \u001b[1m6s\u001b[0m 17ms/step - accuracy: 0.9973 - loss: 0.0109 - val_accuracy: 0.9966 - val_loss: 0.0082\n",
      "Epoch 6/30\n",
      "\u001b[1m351/351\u001b[0m \u001b[32m━━━━━━━━━━━━━━━━━━━━\u001b[0m\u001b[37m\u001b[0m \u001b[1m6s\u001b[0m 17ms/step - accuracy: 0.9993 - loss: 0.0035 - val_accuracy: 0.9949 - val_loss: 0.0096\n",
      "Epoch 7/30\n",
      "\u001b[1m351/351\u001b[0m \u001b[32m━━━━━━━━━━━━━━━━━━━━\u001b[0m\u001b[37m\u001b[0m \u001b[1m6s\u001b[0m 17ms/step - accuracy: 1.0000 - loss: 0.0013 - val_accuracy: 0.9994 - val_loss: 0.0025\n",
      "Epoch 8/30\n",
      "\u001b[1m351/351\u001b[0m \u001b[32m━━━━━━━━━━━━━━━━━━━━\u001b[0m\u001b[37m\u001b[0m \u001b[1m6s\u001b[0m 17ms/step - accuracy: 1.0000 - loss: 0.0011 - val_accuracy: 0.9994 - val_loss: 0.0027\n",
      "Epoch 9/30\n",
      "\u001b[1m351/351\u001b[0m \u001b[32m━━━━━━━━━━━━━━━━━━━━\u001b[0m\u001b[37m\u001b[0m \u001b[1m6s\u001b[0m 17ms/step - accuracy: 0.9988 - loss: 0.0076 - val_accuracy: 0.9704 - val_loss: 0.0821\n",
      "Epoch 10/30\n",
      "\u001b[1m351/351\u001b[0m \u001b[32m━━━━━━━━━━━━━━━━━━━━\u001b[0m\u001b[37m\u001b[0m \u001b[1m6s\u001b[0m 17ms/step - accuracy: 0.9976 - loss: 0.0088 - val_accuracy: 1.0000 - val_loss: 0.0027\n",
      "Epoch 11/30\n",
      "\u001b[1m351/351\u001b[0m \u001b[32m━━━━━━━━━━━━━━━━━━━━\u001b[0m\u001b[37m\u001b[0m \u001b[1m6s\u001b[0m 17ms/step - accuracy: 1.0000 - loss: 9.5508e-04 - val_accuracy: 0.9989 - val_loss: 0.0043\n",
      "Epoch 12/30\n",
      "\u001b[1m351/351\u001b[0m \u001b[32m━━━━━━━━━━━━━━━━━━━━\u001b[0m\u001b[37m\u001b[0m \u001b[1m6s\u001b[0m 17ms/step - accuracy: 1.0000 - loss: 4.8159e-04 - val_accuracy: 1.0000 - val_loss: 0.0011\n",
      "Epoch 13/30\n",
      "\u001b[1m351/351\u001b[0m \u001b[32m━━━━━━━━━━━━━━━━━━━━\u001b[0m\u001b[37m\u001b[0m \u001b[1m6s\u001b[0m 17ms/step - accuracy: 1.0000 - loss: 1.9058e-04 - val_accuracy: 1.0000 - val_loss: 0.0012\n",
      "Epoch 14/30\n",
      "\u001b[1m351/351\u001b[0m \u001b[32m━━━━━━━━━━━━━━━━━━━━\u001b[0m\u001b[37m\u001b[0m \u001b[1m6s\u001b[0m 17ms/step - accuracy: 1.0000 - loss: 1.7845e-04 - val_accuracy: 1.0000 - val_loss: 7.8050e-04\n",
      "Epoch 15/30\n",
      "\u001b[1m351/351\u001b[0m \u001b[32m━━━━━━━━━━━━━━━━━━━━\u001b[0m\u001b[37m\u001b[0m \u001b[1m6s\u001b[0m 17ms/step - accuracy: 1.0000 - loss: 1.1292e-04 - val_accuracy: 1.0000 - val_loss: 6.8929e-04\n",
      "Epoch 16/30\n",
      "\u001b[1m351/351\u001b[0m \u001b[32m━━━━━━━━━━━━━━━━━━━━\u001b[0m\u001b[37m\u001b[0m \u001b[1m6s\u001b[0m 17ms/step - accuracy: 1.0000 - loss: 7.1472e-05 - val_accuracy: 1.0000 - val_loss: 6.2979e-04\n",
      "Epoch 17/30\n",
      "\u001b[1m351/351\u001b[0m \u001b[32m━━━━━━━━━━━━━━━━━━━━\u001b[0m\u001b[37m\u001b[0m \u001b[1m6s\u001b[0m 17ms/step - accuracy: 1.0000 - loss: 5.5417e-05 - val_accuracy: 0.9994 - val_loss: 0.0010\n",
      "Epoch 18/30\n",
      "\u001b[1m351/351\u001b[0m \u001b[32m━━━━━━━━━━━━━━━━━━━━\u001b[0m\u001b[37m\u001b[0m \u001b[1m6s\u001b[0m 17ms/step - accuracy: 1.0000 - loss: 4.8677e-05 - val_accuracy: 1.0000 - val_loss: 4.9514e-04\n",
      "Epoch 19/30\n",
      "\u001b[1m351/351\u001b[0m \u001b[32m━━━━━━━━━━━━━━━━━━━━\u001b[0m\u001b[37m\u001b[0m \u001b[1m6s\u001b[0m 17ms/step - accuracy: 1.0000 - loss: 3.1493e-05 - val_accuracy: 1.0000 - val_loss: 5.2110e-04\n",
      "Epoch 20/30\n",
      "\u001b[1m351/351\u001b[0m \u001b[32m━━━━━━━━━━━━━━━━━━━━\u001b[0m\u001b[37m\u001b[0m \u001b[1m6s\u001b[0m 17ms/step - accuracy: 1.0000 - loss: 3.6169e-05 - val_accuracy: 0.9994 - val_loss: 7.6066e-04\n",
      "Epoch 21/30\n",
      "\u001b[1m351/351\u001b[0m \u001b[32m━━━━━━━━━━━━━━━━━━━━\u001b[0m\u001b[37m\u001b[0m \u001b[1m6s\u001b[0m 17ms/step - accuracy: 1.0000 - loss: 1.8553e-05 - val_accuracy: 0.9994 - val_loss: 5.8043e-04\n",
      "Epoch 22/30\n",
      "\u001b[1m351/351\u001b[0m \u001b[32m━━━━━━━━━━━━━━━━━━━━\u001b[0m\u001b[37m\u001b[0m \u001b[1m6s\u001b[0m 17ms/step - accuracy: 1.0000 - loss: 2.1394e-05 - val_accuracy: 0.9994 - val_loss: 6.7122e-04\n",
      "Epoch 23/30\n",
      "\u001b[1m351/351\u001b[0m \u001b[32m━━━━━━━━━━━━━━━━━━━━\u001b[0m\u001b[37m\u001b[0m \u001b[1m6s\u001b[0m 17ms/step - accuracy: 1.0000 - loss: 1.0190e-05 - val_accuracy: 1.0000 - val_loss: 4.6345e-04\n",
      "Epoch 24/30\n",
      "\u001b[1m351/351\u001b[0m \u001b[32m━━━━━━━━━━━━━━━━━━━━\u001b[0m\u001b[37m\u001b[0m \u001b[1m6s\u001b[0m 17ms/step - accuracy: 1.0000 - loss: 8.8318e-06 - val_accuracy: 1.0000 - val_loss: 4.9822e-04\n",
      "Epoch 25/30\n",
      "\u001b[1m351/351\u001b[0m \u001b[32m━━━━━━━━━━━━━━━━━━━━\u001b[0m\u001b[37m\u001b[0m \u001b[1m11s\u001b[0m 18ms/step - accuracy: 1.0000 - loss: 8.0474e-06 - val_accuracy: 0.9994 - val_loss: 0.0015\n",
      "Epoch 26/30\n",
      "\u001b[1m351/351\u001b[0m \u001b[32m━━━━━━━━━━━━━━━━━━━━\u001b[0m\u001b[37m\u001b[0m \u001b[1m6s\u001b[0m 17ms/step - accuracy: 1.0000 - loss: 6.4775e-06 - val_accuracy: 0.9994 - val_loss: 0.0017\n",
      "Epoch 27/30\n",
      "\u001b[1m351/351\u001b[0m \u001b[32m━━━━━━━━━━━━━━━━━━━━\u001b[0m\u001b[37m\u001b[0m \u001b[1m6s\u001b[0m 17ms/step - accuracy: 1.0000 - loss: 4.1264e-06 - val_accuracy: 0.9994 - val_loss: 0.0015\n",
      "Epoch 28/30\n",
      "\u001b[1m351/351\u001b[0m \u001b[32m━━━━━━━━━━━━━━━━━━━━\u001b[0m\u001b[37m\u001b[0m \u001b[1m10s\u001b[0m 17ms/step - accuracy: 1.0000 - loss: 3.9190e-06 - val_accuracy: 0.9994 - val_loss: 0.0022\n",
      "Epoch 29/30\n",
      "\u001b[1m351/351\u001b[0m \u001b[32m━━━━━━━━━━━━━━━━━━━━\u001b[0m\u001b[37m\u001b[0m \u001b[1m6s\u001b[0m 17ms/step - accuracy: 1.0000 - loss: 2.6824e-06 - val_accuracy: 0.9994 - val_loss: 0.0016\n",
      "Epoch 30/30\n",
      "\u001b[1m351/351\u001b[0m \u001b[32m━━━━━━━━━━━━━━━━━━━━\u001b[0m\u001b[37m\u001b[0m \u001b[1m6s\u001b[0m 17ms/step - accuracy: 1.0000 - loss: 2.3408e-06 - val_accuracy: 0.9994 - val_loss: 0.0023\n",
      "Epoch 30: early stopping\n",
      "Restoring model weights from the end of the best epoch: 23.\n"
     ]
    }
   ],
   "source": [
    "history = model.fit(x_train_normalized, y_train_encoded, epochs=30, batch_size=20, validation_split = 0.2, callbacks = early_stopping)#, shuffle = True, validation_split = 0.2\n"
   ]
  },
  {
   "cell_type": "code",
   "execution_count": 28,
   "metadata": {},
   "outputs": [
    {
     "name": "stdout",
     "output_type": "stream",
     "text": [
      "\u001b[1m69/69\u001b[0m \u001b[32m━━━━━━━━━━━━━━━━━━━━\u001b[0m\u001b[37m\u001b[0m \u001b[1m0s\u001b[0m 6ms/step - accuracy: 0.9994 - loss: 0.0018\n",
      "Test loss: 0.0014250254025682807\n",
      "Test accuracy: 99.95437860488892 %\n"
     ]
    },
    {
     "data": {
      "text/plain": [
       "' y_pred = model.predict(x_test_normalized)\\n#print(y_pred)\\ny_pred_classes = np.argmax(y_pred, axis=1)\\ny_true_classes = np.argmax(y_test_encoded, axis=1)\\n#print(y_pred_classes)\\n#print(y_true_classes)\\ncm = confusion_matrix(y_true_classes, y_pred_classes)\\nprint(cm)\\nConfusionMatrixDisplay.from_predictions(y_true_classes,y_pred_classes)\\nplt.show() '"
      ]
     },
     "execution_count": 28,
     "metadata": {},
     "output_type": "execute_result"
    },
    {
     "data": {
      "image/png": "[encoded data removed]",
      "text/plain": [
       "<Figure size 640x480 with 1 Axes>"
      ]
     },
     "metadata": {},
     "output_type": "display_data"
    },
    {
     "data": {
      "image/png": "[encoded data removed]",
      "text/plain": [
       "<Figure size 640x480 with 1 Axes>"
      ]
     },
     "metadata": {},
     "output_type": "display_data"
    }
   ],
   "source": [
    "score = model.evaluate(x_test_normalized, y_test_encoded, verbose=1)\n",
    "print('Test loss:', score[0])\n",
    "print(f'Test accuracy: {score[1]*100} %')\n",
    "\n",
    "\n",
    "#extract_data.load_data(\"MPA-MLF_data\\Test\", (72, 48))\n",
    "\n",
    "plt.figure()\n",
    "plt.title('Loss')\n",
    "plt.plot(history.history['loss'])\n",
    "plt.plot(history.history['val_loss'])\n",
    "plt.legend(['training', 'validation'])\n",
    "plt.grid('both')\n",
    "plt.figure()\n",
    "plt.title('Accuracy')\n",
    "plt.plot(history.history['accuracy'])\n",
    "plt.plot(history.history['val_accuracy'])\n",
    "plt.legend(['training', 'validation'])\n",
    "plt.grid('both')\n",
    "\n",
    "\"\"\" y_pred = model.predict(x_test_normalized)\n",
    "#print(y_pred)\n",
    "y_pred_classes = np.argmax(y_pred, axis=1)\n",
    "y_true_classes = np.argmax(y_test_encoded, axis=1)\n",
    "#print(y_pred_classes)\n",
    "#print(y_true_classes)\n",
    "cm = confusion_matrix(y_true_classes, y_pred_classes)\n",
    "print(cm)\n",
    "ConfusionMatrixDisplay.from_predictions(y_true_classes,y_pred_classes)\n",
    "plt.show() \"\"\""
   ]
  },
  {
   "cell_type": "code",
   "execution_count": 29,
   "metadata": {},
   "outputs": [
    {
     "name": "stdout",
     "output_type": "stream",
     "text": [
      "\u001b[1m4/4\u001b[0m \u001b[32m━━━━━━━━━━━━━━━━━━━━\u001b[0m\u001b[37m\u001b[0m \u001b[1m0s\u001b[0m 29ms/step\n",
      "[1 0 1 2 0 0 2 0 2 0 2 1 2 0 1 2 0 2 2 2 0 0 2 2 0 0 2 1 1 1 2 0 2 2 2 0 2\n",
      " 0 0 0 2 2 2 0 1 2 1 0 2 1 2 0 2 0 0 2 0 1 2 0 2 1 1 2 2 1 2 1 0 2 1 2 2 2\n",
      " 2 2 2 2 2 2 0 1 2 2 0 2 0 1 0 2 2 2 2 0 2 0 0 2 0 0 0 0 2 1 2 2 1 0 1 2 2\n",
      " 0 2 1 0 1 2 0 0 1]\n"
     ]
    }
   ],
   "source": [
    "y_pred = model.predict(x_sub_normalized)\n",
    "#print(y_pred)\n",
    "y_pred_classes = np.argmax(y_pred, axis=1)\n",
    "print(y_pred_classes)\n",
    "\n",
    "import csv\n",
    "with open('label_test_MT_v0.csv', mode='w', newline='') as file:\n",
    "    writer = csv.writer(file)\n",
    "    writer.writerow(['ID', 'target'])  # Write header\n",
    "    for i, value in enumerate(y_pred_classes):\n",
    "        writer.writerow([i, value])"
   ]
  }
 ],
 "metadata": {
  "kernelspec": {
   "display_name": ".venv",
   "language": "python",
   "name": "python3"
  },
  "language_info": {
   "codemirror_mode": {
    "name": "ipython",
    "version": 3
   },
   "file_extension": ".py",
   "mimetype": "text/x-python",
   "name": "python",
   "nbconvert_exporter": "python",
   "pygments_lexer": "ipython3",
   "version": "3.12.6"
  }
 },
 "nbformat": 4,
 "nbformat_minor": 2
}
